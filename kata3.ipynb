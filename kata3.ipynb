{
 "cells": [
  {
   "cell_type": "markdown",
   "metadata": {},
   "source": [
    "Ejercicio 1"
   ]
  },
  {
   "cell_type": "code",
   "execution_count": null,
   "metadata": {},
   "outputs": [],
   "source": [
    "asteroide = 49\n",
    "if asteroide > 25:\n",
    "    print('Advertencia! se acerca un aesteroide a la Tierra demasiado rápido')\n",
    "else:\n",
    "    print('No hay ningún asteroide a la vista')"
   ]
  },
  {
   "cell_type": "markdown",
   "metadata": {},
   "source": [
    "Ejercicio 2"
   ]
  },
  {
   "cell_type": "code",
   "execution_count": 1,
   "metadata": {},
   "outputs": [
    {
     "name": "stdout",
     "output_type": "stream",
     "text": [
      "No hay nada que ver por aquí\n"
     ]
    }
   ],
   "source": [
    "asteroide=19\n",
    "if asteroide >= 20:\n",
    "    print('Hay un rayo de luz en el cielo')\n",
    "else:\n",
    "    print('Este asteroide no presenta peligro')"
   ]
  },
  {
   "cell_type": "markdown",
   "metadata": {},
   "source": [
    "Ejercicio 3"
   ]
  },
  {
   "cell_type": "code",
   "execution_count": 2,
   "metadata": {},
   "outputs": [
    {
     "name": "stdout",
     "output_type": "stream",
     "text": [
      "Puede verse una luz de asteroide en el cielo\n"
     ]
    }
   ],
   "source": [
    "velocidad = 25\n",
    "tamano = 40\n",
    "if velocidad > 25 and tamano > 25:\n",
    "    print('Un asteroide de gran tamaño se acerca a la Tierra a una gran velocidad')\n",
    "elif velocidad>= 20:\n",
    "    print('Puede verse una luz de asteroide en el cielo')\n",
    "else:\n",
    "    print('No hay ningún asteroide a la vista')"
   ]
  }
 ],
 "metadata": {
  "interpreter": {
   "hash": "4685e4c9653b136e503c00c03c29a74eb72c9a9924e358de7e143b21f04f4c57"
  },
  "kernelspec": {
   "display_name": "Python 3.10.2 64-bit (windows store)",
   "language": "python",
   "name": "python3"
  },
  "language_info": {
   "codemirror_mode": {
    "name": "ipython",
    "version": 3
   },
   "file_extension": ".py",
   "mimetype": "text/x-python",
   "name": "python",
   "nbconvert_exporter": "python",
   "pygments_lexer": "ipython3",
   "version": "3.10.2"
  },
  "orig_nbformat": 4
 },
 "nbformat": 4,
 "nbformat_minor": 2
}
