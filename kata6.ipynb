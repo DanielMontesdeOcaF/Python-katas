{
 "cells": [
  {
   "cell_type": "markdown",
   "metadata": {},
   "source": [
    "Ejercicio 1"
   ]
  },
  {
   "cell_type": "code",
   "execution_count": 12,
   "metadata": {},
   "outputs": [
    {
     "name": "stdout",
     "output_type": "stream",
     "text": [
      "La lista contiene 8 planetas\n"
     ]
    }
   ],
   "source": [
    "planetas = ('Mercurio','Venus','Tierra', 'Marte','Jupiter','Saturno','Urano','Neptuno')\n",
    "print('La lista contiene', len(planetas), 'planetas')"
   ]
  },
  {
   "cell_type": "code",
   "execution_count": 13,
   "metadata": {},
   "outputs": [
    {
     "name": "stdout",
     "output_type": "stream",
     "text": [
      "Neptuno es el último planeta\n"
     ]
    }
   ],
   "source": [
    "planetas1 = list(planetas)\n",
    "planetas1.append('Pluton')\n",
    "print(planetas[-1], 'es el último planeta')"
   ]
  },
  {
   "cell_type": "markdown",
   "metadata": {},
   "source": [
    "Ejercicio 2"
   ]
  },
  {
   "cell_type": "code",
   "execution_count": 24,
   "metadata": {},
   "outputs": [],
   "source": [
    "planetas = ('Mercurio','Venus','Tierra', 'Marte','Jupiter','Saturno','Urano','Neptuno')"
   ]
  },
  {
   "cell_type": "code",
   "execution_count": 25,
   "metadata": {},
   "outputs": [],
   "source": [
    "planeta_ingresar = input('Please enter the name of the planet (with a capital letter to start)')"
   ]
  },
  {
   "cell_type": "code",
   "execution_count": 26,
   "metadata": {},
   "outputs": [],
   "source": [
    "planet_index = planetas.index(planeta_ingresar)"
   ]
  },
  {
   "cell_type": "code",
   "execution_count": 27,
   "metadata": {},
   "outputs": [
    {
     "name": "stdout",
     "output_type": "stream",
     "text": [
      "Los planetas más cercanos al sol que Jupiter son\n",
      "('Mercurio', 'Venus', 'Tierra', 'Marte')\n"
     ]
    }
   ],
   "source": [
    "print('Los planetas más cercanos al sol que ' + planeta_ingresar +' son')\n",
    "print(planetas[0:planet_index])"
   ]
  },
  {
   "cell_type": "code",
   "execution_count": 28,
   "metadata": {},
   "outputs": [
    {
     "name": "stdout",
     "output_type": "stream",
     "text": [
      "Los planetas más lejanos al sol que Jupiter son\n",
      "('Saturno', 'Urano', 'Neptuno')\n"
     ]
    }
   ],
   "source": [
    "print('Los planetas más lejanos al sol que ' + planeta_ingresar +' son')\n",
    "print(planetas[planet_index + 1:])"
   ]
  }
 ],
 "metadata": {
  "interpreter": {
   "hash": "4685e4c9653b136e503c00c03c29a74eb72c9a9924e358de7e143b21f04f4c57"
  },
  "kernelspec": {
   "display_name": "Python 3.10.2 64-bit (windows store)",
   "language": "python",
   "name": "python3"
  },
  "language_info": {
   "codemirror_mode": {
    "name": "ipython",
    "version": 3
   },
   "file_extension": ".py",
   "mimetype": "text/x-python",
   "name": "python",
   "nbconvert_exporter": "python",
   "pygments_lexer": "ipython3",
   "version": "3.10.2"
  },
  "orig_nbformat": 4
 },
 "nbformat": 4,
 "nbformat_minor": 2
}
